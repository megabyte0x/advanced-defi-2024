{
 "cells": [
  {
   "cell_type": "code",
   "execution_count": 5,
   "id": "d8b66c65-b1b1-4810-9403-c65b29227c28",
   "metadata": {},
   "outputs": [
    {
     "name": "stdout",
     "output_type": "stream",
     "text": [
      "9835488.234445\n",
      "9899487.13429337\n",
      "9744228.770199211\n"
     ]
    },
    {
     "data": {
      "text/plain": [
       "29047349.899039354"
      ]
     },
     "execution_count": 5,
     "metadata": {},
     "output_type": "execute_result"
    }
   ],
   "source": [
    "N_COINS = 3\n",
    "PRECISION = 1e18\n",
    "\n",
    "D = 29047349899039352915342907\n",
    "# USDC, WBTC, ETH\n",
    "balances = [9835488234445, 14938821663, 2811863139959144531319]\n",
    "precisions = [1e12, 1e10, 1]\n",
    "price_scale = [66266853956842562806222, 3465399375853261468310]\n",
    "\n",
    "xp = [b for b in balances]\n",
    "xp[0] *= precisions[0]\n",
    "for k in range(1, N_COINS):\n",
    "    xp[k] = xp[k] * price_scale[k - 1] * precisions[k] / PRECISION\n",
    "\n",
    "for x in xp:\n",
    "    print(x / 1e18)\n",
    "\n",
    "D / 1e18"
   ]
  },
  {
   "cell_type": "code",
   "execution_count": 6,
   "id": "581d8ac1-c617-4a12-87fc-9c4aa64df029",
   "metadata": {},
   "outputs": [
    {
     "data": {
      "text/plain": [
       "15811.341284314029"
      ]
     },
     "execution_count": 6,
     "metadata": {},
     "output_type": "execute_result"
    }
   ],
   "source": [
    "N_COINS = 3\n",
    "PRECISION = 1e18\n",
    "\n",
    "D = 29047349899039352915342907\n",
    "balances = [9835488234445, 14938821663, 2811863139959144531319]\n",
    "precisions = [1e12, 1e10, 1]\n",
    "price_scale = [66266853956842562806222, 3465399375853261468310]\n",
    "\n",
    "def get_xcp(D, prices):\n",
    "    N = 3\n",
    "    x = [0, 0, 0]\n",
    "    x[0] = D / N\n",
    "\n",
    "    for i in range(1, N):\n",
    "        x[i] = D * 10**18 / (N * prices[i - 1])\n",
    "\n",
    "    return (x[0] * x[1] * x[2]) ** (1/N)\n",
    "\n",
    "get_xcp(D, price_scale) / 1e18"
   ]
  },
  {
   "cell_type": "code",
   "execution_count": null,
   "id": "c661ffc1-d181-4ef7-bf28-ff6d25f2198e",
   "metadata": {},
   "outputs": [],
   "source": [
    "import numpy as np\n",
    "import matplotlib.pyplot as plt\n",
    "from scipy.optimize import fsolve\n",
    "\n",
    "D = 200\n",
    "A = 5\n",
    "g = 0.05\n",
    "p = [1, 2]\n",
    "\n",
    "def f_curve_v2(y, x, A, D, g, p):\n",
    "    # Transformed balances\n",
    "    x = x * p[0]\n",
    "    y = y * p[1]\n",
    "    # Curve v2\n",
    "    k0 = x*y/(D/2)**2\n",
    "    k = A*k0*g**2/(g+1-k0)**2\n",
    "    return x*y + k*D*(x+y) - (D/2)**2 - k*D**2\n",
    "\n",
    "xs = np.linspace(10, 400, 100)\n",
    "ys = [fsolve(f_curve_v2, (D/2)**2, args=(x, A, D, g, p))[0] for x in xs]\n",
    "\n",
    "### Curve v2 graph ###\n",
    "plt.figure(figsize=(8, 8)) \n",
    "# plt.axis('equal')\n",
    "plt.ylim(0, 300)\n",
    "plt.xlim(0, 300)\n",
    "\n",
    "plt.plot(xs, ys)\n",
    "\n",
    "plt.grid(True)\n",
    "plt.show()\n",
    "\n",
    "### xy / (D/(2 * p0)*D/(2*p1)) ###\n",
    "xys = zip(xs, ys)\n",
    "zs = [x*y/((D/(2*p[0]))*(D/(2*p[1]))) for (x, y) in xys]\n",
    "\n",
    "plt.plot(xs, zs)\n",
    "plt.plot(ys, zs)\n",
    "plt.legend([\"x\", \"y\"])\n",
    "plt.grid(True)\n",
    "plt.show()"
   ]
  }
 ],
 "metadata": {
  "kernelspec": {
   "display_name": "Python 3 (ipykernel)",
   "language": "python",
   "name": "python3"
  },
  "language_info": {
   "codemirror_mode": {
    "name": "ipython",
    "version": 3
   },
   "file_extension": ".py",
   "mimetype": "text/x-python",
   "name": "python",
   "nbconvert_exporter": "python",
   "pygments_lexer": "ipython3",
   "version": "3.10.11"
  }
 },
 "nbformat": 4,
 "nbformat_minor": 5
}
