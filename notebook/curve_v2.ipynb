{
 "cells": [
  {
   "cell_type": "code",
   "execution_count": 13,
   "id": "d8b66c65-b1b1-4810-9403-c65b29227c28",
   "metadata": {},
   "outputs": [
    {
     "name": "stdout",
     "output_type": "stream",
     "text": [
      "9835488.234445\n",
      "9899487.13429337\n",
      "9744228.770199211\n"
     ]
    }
   ],
   "source": [
    "# USDC, WBTC, ETH\n",
    "N_COINS = 3\n",
    "PRECISION = 1e18\n",
    "\n",
    "D = 29047349899039352915342907\n",
    "balances = [9835488234445, 14938821663, 2811863139959144531319]\n",
    "precisions = [1e12, 1e10, 1]\n",
    "price_scale = [66266853956842562806222, 3465399375853261468310]\n",
    "\n",
    "xp = [b for b in balances]\n",
    "\n",
    "xp[0] *= precisions[0]\n",
    "for k in range(1, N_COINS):\n",
    "    xp[k] = xp[k] * price_scale[k - 1] * precisions[k] / PRECISION\n",
    "\n",
    "for x in xp:\n",
    "    print(x / 1e18)"
   ]
  },
  {
   "cell_type": "code",
   "execution_count": 14,
   "id": "2c627c51-d5a9-4003-b3c0-290f5a457d57",
   "metadata": {},
   "outputs": [
    {
     "data": {
      "text/plain": [
       "15811.341284314029"
      ]
     },
     "execution_count": 14,
     "metadata": {},
     "output_type": "execute_result"
    }
   ],
   "source": [
    "def get_xcp(D, prices):\n",
    "    N = 3\n",
    "    x = [0, 0, 0]\n",
    "    x[0] = D / N\n",
    "\n",
    "    for i in range(1, N):\n",
    "        x[i] = D * 10**18 / (N * prices[i - 1])\n",
    "\n",
    "    return (x[0] * x[1] * x[2]) ** (1/N)\n",
    "\n",
    "get_xcp(D, price_scale) / 1e18"
   ]
  }
 ],
 "metadata": {
  "kernelspec": {
   "display_name": "Python 3 (ipykernel)",
   "language": "python",
   "name": "python3"
  },
  "language_info": {
   "codemirror_mode": {
    "name": "ipython",
    "version": 3
   },
   "file_extension": ".py",
   "mimetype": "text/x-python",
   "name": "python",
   "nbconvert_exporter": "python",
   "pygments_lexer": "ipython3",
   "version": "3.12.4"
  }
 },
 "nbformat": 4,
 "nbformat_minor": 5
}
